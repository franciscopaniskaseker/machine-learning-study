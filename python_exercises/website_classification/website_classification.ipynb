{
 "cells": [
  {
   "cell_type": "markdown",
   "id": "ee8cc821",
   "metadata": {},
   "source": [
    "# Red some website contents and respective classification data, train multiples AI and predict the website category."
   ]
  },
  {
   "cell_type": "markdown",
   "id": "8b13dd59",
   "metadata": {},
   "source": [
    "## This will be a simple solution using CountVectorizer and non complex text processing. The training data is not big enough to good generalization, but doing right decisions you can have a good predictor, at least something better than random prediction :)"
   ]
  },
  {
   "cell_type": "markdown",
   "id": "e8fa866e",
   "metadata": {},
   "source": [
    "## Import basic libraries:"
   ]
  },
  {
   "cell_type": "code",
   "execution_count": 1,
   "id": "2e67e546",
   "metadata": {},
   "outputs": [],
   "source": [
    "import pandas as pd\n",
    "import numpy as np\n",
    "import collections as cll\n",
    "import nltk\n",
    "from nltk import tokenize"
   ]
  },
  {
   "cell_type": "markdown",
   "id": "a553c402",
   "metadata": {},
   "source": [
    "## Read the dataset"
   ]
  },
  {
   "cell_type": "code",
   "execution_count": 2,
   "id": "6eeef918",
   "metadata": {},
   "outputs": [],
   "source": [
    "dataset = pd.read_csv('website_classification.csv',usecols=['cleaned_website_text','Category'])\n",
    "y = dataset.iloc[:,-1].values"
   ]
  },
  {
   "cell_type": "code",
   "execution_count": 3,
   "id": "9fb9a489",
   "metadata": {},
   "outputs": [
    {
     "data": {
      "text/html": [
       "<div>\n",
       "<style scoped>\n",
       "    .dataframe tbody tr th:only-of-type {\n",
       "        vertical-align: middle;\n",
       "    }\n",
       "\n",
       "    .dataframe tbody tr th {\n",
       "        vertical-align: top;\n",
       "    }\n",
       "\n",
       "    .dataframe thead th {\n",
       "        text-align: right;\n",
       "    }\n",
       "</style>\n",
       "<table border=\"1\" class=\"dataframe\">\n",
       "  <thead>\n",
       "    <tr style=\"text-align: right;\">\n",
       "      <th></th>\n",
       "      <th>cleaned_website_text</th>\n",
       "      <th>Category</th>\n",
       "    </tr>\n",
       "  </thead>\n",
       "  <tbody>\n",
       "    <tr>\n",
       "      <th>0</th>\n",
       "      <td>official site good hotel accommodation big sav...</td>\n",
       "      <td>Travel</td>\n",
       "    </tr>\n",
       "    <tr>\n",
       "      <th>1</th>\n",
       "      <td>expedia hotel book sites like use vacation wor...</td>\n",
       "      <td>Travel</td>\n",
       "    </tr>\n",
       "    <tr>\n",
       "      <th>2</th>\n",
       "      <td>tripadvisor hotel book sites like previously d...</td>\n",
       "      <td>Travel</td>\n",
       "    </tr>\n",
       "    <tr>\n",
       "      <th>3</th>\n",
       "      <td>cheap flights search compare flights momondo f...</td>\n",
       "      <td>Travel</td>\n",
       "    </tr>\n",
       "    <tr>\n",
       "      <th>4</th>\n",
       "      <td>bot create free account create free account si...</td>\n",
       "      <td>Travel</td>\n",
       "    </tr>\n",
       "  </tbody>\n",
       "</table>\n",
       "</div>"
      ],
      "text/plain": [
       "                                cleaned_website_text Category\n",
       "0  official site good hotel accommodation big sav...   Travel\n",
       "1  expedia hotel book sites like use vacation wor...   Travel\n",
       "2  tripadvisor hotel book sites like previously d...   Travel\n",
       "3  cheap flights search compare flights momondo f...   Travel\n",
       "4  bot create free account create free account si...   Travel"
      ]
     },
     "execution_count": 3,
     "metadata": {},
     "output_type": "execute_result"
    }
   ],
   "source": [
    "dataset.head()"
   ]
  },
  {
   "cell_type": "markdown",
   "id": "0ee773b2",
   "metadata": {},
   "source": [
    "## Print the first site content"
   ]
  },
  {
   "cell_type": "code",
   "execution_count": 4,
   "id": "1aea41cc",
   "metadata": {},
   "outputs": [
    {
     "name": "stdout",
     "output_type": "stream",
     "text": [
      "official site good hotel accommodation big saving hotel destination worldwide browse hotel review find guarantee good price hotel budget lodging accommodation hotel hotels special offer package special weekend break city break deal budget cheap discount saving select language find deal hotel home try search connect traveller india travel talk community recommend destination flamborough boreland colvend catfield harberton warleggan inspiration trip spot winter wildlife beautiful snowy island bye bye work want spontechnaity tech drive travel vital value maximise travel homes guest love browse property type hotels apartments resorts villa cabins cottage glamping serviced apartment holiday home guest house hostels motels ryokans riads holiday park homestays campsites country house farm stay boats luxury tent self catering accommodation tiny house chapel saint leonards wuqing wuchang saint eval great rowsley instow verified review real guest work start booking follow trip finally review skip main content inr choose currency current currency indian rupee choose language current language english uk english uk english deutsch nederlands français español español ar español mx català italiano português pt português br norsk suomi svenska dansk čeština magyar română 日本語 简体中文 繁體中文 polski ελληνικά русский türkçe български العربية 한국어 עברית latviski українська bahasa indonesia bahasa malaysia ภาษาไทย eesti hrvatski lietuvių slovenčina srpski slovenščina tiếng việt filipino íslenska help reservation list property register sign coronavirus support check travel restriction travel permit certain purpose particular touristic travel allow read find deal hotel home cosy country home funky city flat type destination error enter destination start search flamborough boreland colvend catfield check check room occupancy adult child room adults adults children child rooms room search want entire home apartment travel work result show map travel offer enjoy stay january deal early deal save booking good start find deal travel community traveller general discussion traveller view traveller explore india popular destination lot offer goa property lonavala property north goa property mahabaleshwar property mumbai property new delhi property south goa property jaipur property alibaug property bangalore property find apartment villa aparthotels holiday homes cottage home apartment trip discover home flamborough property boreland colvend property catfield property harberton property warleggan property animal hibernate winter destination embrace cold magical frost tip vista blissful quiet snowy island promise pure escapism remote work long term reality soon set office traveller technology regain confidence help travel safely traveller prioritise value money book transparency flexibility sign member deal reveal secret deal sign hotels hotel apartment apartment resort resort villas villas cabin cabin cottage cottage glampe glamping site service apartment serviced apartment holiday home holiday home guest house guest house hostels hostel motel motel ryokan ryokan riad riad holiday park holiday park homestays homestay campsite campsite country house country house farm stay farm stay boats boat luxury tent luxury tent self catering accommodation self catering property tiny house tiny house united kingdom holiday rental holiday home villa apartment glamping site china china united kingdom holiday rental villa holiday home united kingdom villa holiday home holiday rental united kingdom holiday rental holiday home villa destination list property mobile version account change book online contact customer service affiliate business countries regions cities districts airports hotels places interest home apartments resorts villas hostels guest house unique place stay destination reviews travel communities seasonal holiday deal travel agents coronavirus faq contact customer service partner help careers sustainability press centre safety resource centre investor relation terms conditions partner dispute privacy cookie statement corporate contact seek get perfect place listing include listing home apartment unique place stay locate destination country territory base amsterdam netherlands support internationally office country extranet login copyright right reserve booking holdings world leader online travel related service start dialog content million property review real verify guest start booking way leave review booking know review come real guest stay property follow trip guest stay property check quiet room friendly staff finally review trip guest tell stay check naughty word verify authenticity guest review add site book want leave review sign sign leave review end dialog content check date check date mo tu th fr sa su close calendar sign continue sign account use option account create account gogless\n"
     ]
    }
   ],
   "source": [
    "print(dataset.iloc[0,0])"
   ]
  },
  {
   "cell_type": "code",
   "execution_count": 5,
   "id": "bd55eb9e",
   "metadata": {},
   "outputs": [
    {
     "name": "stdout",
     "output_type": "stream",
     "text": [
      "['Travel' 'Travel' 'Travel' ... 'Adult' 'Adult' 'Adult']\n"
     ]
    }
   ],
   "source": [
    "print(y)"
   ]
  },
  {
   "cell_type": "markdown",
   "id": "70809ddf",
   "metadata": {},
   "source": [
    "## Check the balance of the categories"
   ]
  },
  {
   "cell_type": "code",
   "execution_count": 6,
   "id": "4aabd778",
   "metadata": {},
   "outputs": [
    {
     "data": {
      "text/plain": [
       "Counter({'Travel': 107,\n",
       "         'Social Networking and Messaging': 83,\n",
       "         'News': 96,\n",
       "         'Streaming Services': 105,\n",
       "         'Sports': 104,\n",
       "         'Photography': 93,\n",
       "         'Law and Government': 84,\n",
       "         'Health and Fitness': 96,\n",
       "         'Games': 98,\n",
       "         'E-Commerce': 102,\n",
       "         'Forums': 16,\n",
       "         'Food': 92,\n",
       "         'Education': 114,\n",
       "         'Computers and Technology': 93,\n",
       "         'Business/Corporate': 109,\n",
       "         'Adult': 16})"
      ]
     },
     "execution_count": 6,
     "metadata": {},
     "output_type": "execute_result"
    }
   ],
   "source": [
    "cll.Counter(y)"
   ]
  },
  {
   "cell_type": "markdown",
   "id": "1556054b",
   "metadata": {},
   "source": [
    "## Remove Forums and Adult, they are not balanced, so they can decrease the accuracy"
   ]
  },
  {
   "cell_type": "code",
   "execution_count": 7,
   "id": "6612dddc",
   "metadata": {},
   "outputs": [],
   "source": [
    "dataset = dataset[dataset.Category != 'Forums' ]\n",
    "dataset = dataset[dataset.Category != 'Adult' ] \n",
    "y = dataset.iloc[:,-1].values"
   ]
  },
  {
   "cell_type": "markdown",
   "id": "ed115ae6",
   "metadata": {},
   "source": [
    "## Create the bag of words structure"
   ]
  },
  {
   "cell_type": "code",
   "execution_count": 8,
   "id": "9e992184",
   "metadata": {},
   "outputs": [],
   "source": [
    "from sklearn.feature_extraction.text import CountVectorizer"
   ]
  },
  {
   "cell_type": "code",
   "execution_count": 9,
   "id": "fa3470cd",
   "metadata": {},
   "outputs": [],
   "source": [
    "cv = CountVectorizer(max_features = 1322)\n",
    "X = cv.fit_transform(dataset['cleaned_website_text']).toarray()"
   ]
  },
  {
   "cell_type": "code",
   "execution_count": 10,
   "id": "16fefe25",
   "metadata": {},
   "outputs": [
    {
     "name": "stdout",
     "output_type": "stream",
     "text": [
      "[[0 0 0 ... 0 0 0]\n",
      " [0 0 1 ... 0 0 0]\n",
      " [0 0 0 ... 0 0 0]\n",
      " ...\n",
      " [0 0 0 ... 0 0 0]\n",
      " [0 0 0 ... 0 0 0]\n",
      " [0 0 0 ... 0 0 0]]\n"
     ]
    }
   ],
   "source": [
    "print(X)"
   ]
  },
  {
   "cell_type": "markdown",
   "id": "2a3e4497",
   "metadata": {},
   "source": [
    "## Import the AI algorithms to do classification"
   ]
  },
  {
   "cell_type": "code",
   "execution_count": 11,
   "id": "90cbcf11",
   "metadata": {},
   "outputs": [],
   "source": [
    "from sklearn import svm\n",
    "from sklearn.ensemble import RandomForestClassifier\n",
    "from sklearn.linear_model import LogisticRegression\n",
    "from sklearn.naive_bayes import GaussianNB\n",
    "from sklearn.naive_bayes import MultinomialNB\n",
    "from sklearn.tree import DecisionTreeClassifier"
   ]
  },
  {
   "cell_type": "markdown",
   "id": "c85dafbc",
   "metadata": {},
   "source": [
    "## Create the model_params to explore and find the best AI algorithm using GridSearchCV"
   ]
  },
  {
   "cell_type": "code",
   "execution_count": 12,
   "id": "acd30d13",
   "metadata": {},
   "outputs": [],
   "source": [
    "model_params = {\n",
    "    'svm' : { \n",
    "        'model' : svm.SVC(gamma='auto'),\n",
    "        'params' : {\n",
    "            'C' : [ 1, 5, 10, 20],\n",
    "            'kernel' : [ 'rbf', 'linear' ]\n",
    "        }\n",
    "    },\n",
    "    'random_forest' : {\n",
    "        'model' : RandomForestClassifier(),\n",
    "        'params' : {\n",
    "            'criterion' : [ 'gini', 'entropy' ],\n",
    "            'n_estimators' : [ 1, 5, 10 , 15]\n",
    "        }\n",
    "    },\n",
    "    'logistic_regression' : {\n",
    "        'model' : LogisticRegression(multi_class='auto',max_iter=5000,dual=False),\n",
    "        'params' : {\n",
    "            'penalty' : [ 'l2' ],\n",
    "            'C': [ 1, 2, 5, 10],\n",
    "            'solver' : [ 'lbfgs' ]\n",
    "        }\n",
    "    },\n",
    "    'naive_bayes_gaussiannb' : { \n",
    "        'model' : GaussianNB(), \n",
    "        'params' : {}\n",
    "    },\n",
    "    'naive_bayes_multinomialNB' : {\n",
    "        'model' : MultinomialNB(),\n",
    "        'params' : {\n",
    "            'alpha' : [ 1, 2, 5, 10 ], \n",
    "            'fit_prior' : [ 0, 1 ]\n",
    "        }\n",
    "    },\n",
    "    'decision_tree_classifier' : {\n",
    "        'model' : DecisionTreeClassifier(),\n",
    "        'params' : {\n",
    "            'criterion' : [ 'gini', 'entropy' ],\n",
    "            'splitter' : [ 'best' , 'random' ]\n",
    "        }\n",
    "    }\n",
    "}"
   ]
  },
  {
   "cell_type": "markdown",
   "id": "25f1019f",
   "metadata": {},
   "source": [
    "## Print the models"
   ]
  },
  {
   "cell_type": "code",
   "execution_count": 13,
   "id": "c61dcc37",
   "metadata": {},
   "outputs": [
    {
     "name": "stdout",
     "output_type": "stream",
     "text": [
      "svm\n",
      "random_forest\n",
      "logistic_regression\n",
      "naive_bayes_gaussiannb\n",
      "naive_bayes_multinomialNB\n",
      "decision_tree_classifier\n"
     ]
    }
   ],
   "source": [
    "for item in model_params:\n",
    "    print(item)"
   ]
  },
  {
   "cell_type": "markdown",
   "id": "f711a53e",
   "metadata": {},
   "source": [
    "## Print the models and their parameters"
   ]
  },
  {
   "cell_type": "code",
   "execution_count": 14,
   "id": "b5d29429",
   "metadata": {},
   "outputs": [
    {
     "name": "stdout",
     "output_type": "stream",
     "text": [
      "svm\n",
      "{'model': SVC(gamma='auto'), 'params': {'C': [1, 5, 10, 20], 'kernel': ['rbf', 'linear']}}\n",
      "random_forest\n",
      "{'model': RandomForestClassifier(), 'params': {'criterion': ['gini', 'entropy'], 'n_estimators': [1, 5, 10, 15]}}\n",
      "logistic_regression\n",
      "{'model': LogisticRegression(max_iter=5000), 'params': {'penalty': ['l2'], 'C': [1, 2, 5, 10], 'solver': ['lbfgs']}}\n",
      "naive_bayes_gaussiannb\n",
      "{'model': GaussianNB(), 'params': {}}\n",
      "naive_bayes_multinomialNB\n",
      "{'model': MultinomialNB(), 'params': {'alpha': [1, 2, 5, 10], 'fit_prior': [0, 1]}}\n",
      "decision_tree_classifier\n",
      "{'model': DecisionTreeClassifier(), 'params': {'criterion': ['gini', 'entropy'], 'splitter': ['best', 'random']}}\n"
     ]
    }
   ],
   "source": [
    "for model_name, params in model_params.items():\n",
    "    print(model_name)\n",
    "    print(params)"
   ]
  },
  {
   "cell_type": "markdown",
   "id": "2c7f47aa",
   "metadata": {},
   "source": [
    "## Implement the GridSearchCV to find the best classifier"
   ]
  },
  {
   "cell_type": "code",
   "execution_count": 15,
   "id": "9338e14e",
   "metadata": {},
   "outputs": [],
   "source": [
    "from sklearn.model_selection import GridSearchCV"
   ]
  },
  {
   "cell_type": "code",
   "execution_count": 16,
   "id": "9ebcc367",
   "metadata": {},
   "outputs": [],
   "source": [
    "# implement the GridSearchCV(estimator, param_grid, cv=5, return_train_score=False)\n",
    "scores = []\n",
    "for model_name, model_items in model_params.items():\n",
    "    grid_clf = GridSearchCV(model_items['model'], model_items['params'], cv=5, return_train_score=False)\n",
    "\n",
    "    grid_clf.fit(X, y)\n",
    "    \n",
    "    # append the score\n",
    "    scores.append({\n",
    "        'model' : model_name,\n",
    "        'best score' : grid_clf.best_score_,\n",
    "        'best param' : grid_clf.best_params_\n",
    "    })"
   ]
  },
  {
   "cell_type": "markdown",
   "id": "be3a9dbd",
   "metadata": {},
   "source": [
    "## Create pandas dataframe and add the colums to make it simple to read, then sort from the best score to the lowest"
   ]
  },
  {
   "cell_type": "code",
   "execution_count": 17,
   "id": "e61cfc31",
   "metadata": {},
   "outputs": [],
   "source": [
    "df = pd.DataFrame(scores, columns = [ 'model', 'best score', 'best param' ])"
   ]
  },
  {
   "cell_type": "code",
   "execution_count": 18,
   "id": "81d76fdb",
   "metadata": {},
   "outputs": [
    {
     "data": {
      "text/html": [
       "<div>\n",
       "<style scoped>\n",
       "    .dataframe tbody tr th:only-of-type {\n",
       "        vertical-align: middle;\n",
       "    }\n",
       "\n",
       "    .dataframe tbody tr th {\n",
       "        vertical-align: top;\n",
       "    }\n",
       "\n",
       "    .dataframe thead th {\n",
       "        text-align: right;\n",
       "    }\n",
       "</style>\n",
       "<table border=\"1\" class=\"dataframe\">\n",
       "  <thead>\n",
       "    <tr style=\"text-align: right;\">\n",
       "      <th></th>\n",
       "      <th>model</th>\n",
       "      <th>best score</th>\n",
       "      <th>best param</th>\n",
       "    </tr>\n",
       "  </thead>\n",
       "  <tbody>\n",
       "    <tr>\n",
       "      <th>4</th>\n",
       "      <td>naive_bayes_multinomialNB</td>\n",
       "      <td>0.881552</td>\n",
       "      <td>{'alpha': 2, 'fit_prior': 0}</td>\n",
       "    </tr>\n",
       "    <tr>\n",
       "      <th>2</th>\n",
       "      <td>logistic_regression</td>\n",
       "      <td>0.818306</td>\n",
       "      <td>{'C': 1, 'penalty': 'l2', 'solver': 'lbfgs'}</td>\n",
       "    </tr>\n",
       "    <tr>\n",
       "      <th>1</th>\n",
       "      <td>random_forest</td>\n",
       "      <td>0.739083</td>\n",
       "      <td>{'criterion': 'gini', 'n_estimators': 15}</td>\n",
       "    </tr>\n",
       "    <tr>\n",
       "      <th>0</th>\n",
       "      <td>svm</td>\n",
       "      <td>0.696195</td>\n",
       "      <td>{'C': 1, 'kernel': 'linear'}</td>\n",
       "    </tr>\n",
       "    <tr>\n",
       "      <th>5</th>\n",
       "      <td>decision_tree_classifier</td>\n",
       "      <td>0.569781</td>\n",
       "      <td>{'criterion': 'gini', 'splitter': 'best'}</td>\n",
       "    </tr>\n",
       "  </tbody>\n",
       "</table>\n",
       "</div>"
      ],
      "text/plain": [
       "                       model  best score  \\\n",
       "4  naive_bayes_multinomialNB    0.881552   \n",
       "2        logistic_regression    0.818306   \n",
       "1              random_forest    0.739083   \n",
       "0                        svm    0.696195   \n",
       "5   decision_tree_classifier    0.569781   \n",
       "\n",
       "                                     best param  \n",
       "4                  {'alpha': 2, 'fit_prior': 0}  \n",
       "2  {'C': 1, 'penalty': 'l2', 'solver': 'lbfgs'}  \n",
       "1     {'criterion': 'gini', 'n_estimators': 15}  \n",
       "0                  {'C': 1, 'kernel': 'linear'}  \n",
       "5     {'criterion': 'gini', 'splitter': 'best'}  "
      ]
     },
     "execution_count": 18,
     "metadata": {},
     "output_type": "execute_result"
    }
   ],
   "source": [
    "df.sort_values(by=['best score'], ascending=False).head()"
   ]
  },
  {
   "cell_type": "markdown",
   "id": "0d08a70f",
   "metadata": {},
   "source": [
    "## MultinomialNB got the best score (88.1552%). Lets try to classify a random site text with that algorithm."
   ]
  },
  {
   "cell_type": "markdown",
   "id": "108e9fb9",
   "metadata": {},
   "source": [
    "## Create the classifer object:"
   ]
  },
  {
   "cell_type": "code",
   "execution_count": 19,
   "id": "82d4f498",
   "metadata": {},
   "outputs": [
    {
     "data": {
      "text/html": [
       "<style>#sk-container-id-1 {color: black;background-color: white;}#sk-container-id-1 pre{padding: 0;}#sk-container-id-1 div.sk-toggleable {background-color: white;}#sk-container-id-1 label.sk-toggleable__label {cursor: pointer;display: block;width: 100%;margin-bottom: 0;padding: 0.3em;box-sizing: border-box;text-align: center;}#sk-container-id-1 label.sk-toggleable__label-arrow:before {content: \"▸\";float: left;margin-right: 0.25em;color: #696969;}#sk-container-id-1 label.sk-toggleable__label-arrow:hover:before {color: black;}#sk-container-id-1 div.sk-estimator:hover label.sk-toggleable__label-arrow:before {color: black;}#sk-container-id-1 div.sk-toggleable__content {max-height: 0;max-width: 0;overflow: hidden;text-align: left;background-color: #f0f8ff;}#sk-container-id-1 div.sk-toggleable__content pre {margin: 0.2em;color: black;border-radius: 0.25em;background-color: #f0f8ff;}#sk-container-id-1 input.sk-toggleable__control:checked~div.sk-toggleable__content {max-height: 200px;max-width: 100%;overflow: auto;}#sk-container-id-1 input.sk-toggleable__control:checked~label.sk-toggleable__label-arrow:before {content: \"▾\";}#sk-container-id-1 div.sk-estimator input.sk-toggleable__control:checked~label.sk-toggleable__label {background-color: #d4ebff;}#sk-container-id-1 div.sk-label input.sk-toggleable__control:checked~label.sk-toggleable__label {background-color: #d4ebff;}#sk-container-id-1 input.sk-hidden--visually {border: 0;clip: rect(1px 1px 1px 1px);clip: rect(1px, 1px, 1px, 1px);height: 1px;margin: -1px;overflow: hidden;padding: 0;position: absolute;width: 1px;}#sk-container-id-1 div.sk-estimator {font-family: monospace;background-color: #f0f8ff;border: 1px dotted black;border-radius: 0.25em;box-sizing: border-box;margin-bottom: 0.5em;}#sk-container-id-1 div.sk-estimator:hover {background-color: #d4ebff;}#sk-container-id-1 div.sk-parallel-item::after {content: \"\";width: 100%;border-bottom: 1px solid gray;flex-grow: 1;}#sk-container-id-1 div.sk-label:hover label.sk-toggleable__label {background-color: #d4ebff;}#sk-container-id-1 div.sk-serial::before {content: \"\";position: absolute;border-left: 1px solid gray;box-sizing: border-box;top: 0;bottom: 0;left: 50%;z-index: 0;}#sk-container-id-1 div.sk-serial {display: flex;flex-direction: column;align-items: center;background-color: white;padding-right: 0.2em;padding-left: 0.2em;position: relative;}#sk-container-id-1 div.sk-item {position: relative;z-index: 1;}#sk-container-id-1 div.sk-parallel {display: flex;align-items: stretch;justify-content: center;background-color: white;position: relative;}#sk-container-id-1 div.sk-item::before, #sk-container-id-1 div.sk-parallel-item::before {content: \"\";position: absolute;border-left: 1px solid gray;box-sizing: border-box;top: 0;bottom: 0;left: 50%;z-index: -1;}#sk-container-id-1 div.sk-parallel-item {display: flex;flex-direction: column;z-index: 1;position: relative;background-color: white;}#sk-container-id-1 div.sk-parallel-item:first-child::after {align-self: flex-end;width: 50%;}#sk-container-id-1 div.sk-parallel-item:last-child::after {align-self: flex-start;width: 50%;}#sk-container-id-1 div.sk-parallel-item:only-child::after {width: 0;}#sk-container-id-1 div.sk-dashed-wrapped {border: 1px dashed gray;margin: 0 0.4em 0.5em 0.4em;box-sizing: border-box;padding-bottom: 0.4em;background-color: white;}#sk-container-id-1 div.sk-label label {font-family: monospace;font-weight: bold;display: inline-block;line-height: 1.2em;}#sk-container-id-1 div.sk-label-container {text-align: center;}#sk-container-id-1 div.sk-container {/* jupyter's `normalize.less` sets `[hidden] { display: none; }` but bootstrap.min.css set `[hidden] { display: none !important; }` so we also need the `!important` here to be able to override the default hidden behavior on the sphinx rendered scikit-learn.org. See: https://github.com/scikit-learn/scikit-learn/issues/21755 */display: inline-block !important;position: relative;}#sk-container-id-1 div.sk-text-repr-fallback {display: none;}</style><div id=\"sk-container-id-1\" class=\"sk-top-container\"><div class=\"sk-text-repr-fallback\"><pre>MultinomialNB(alpha=2, fit_prior=0)</pre><b>In a Jupyter environment, please rerun this cell to show the HTML representation or trust the notebook. <br />On GitHub, the HTML representation is unable to render, please try loading this page with nbviewer.org.</b></div><div class=\"sk-container\" hidden><div class=\"sk-item\"><div class=\"sk-estimator sk-toggleable\"><input class=\"sk-toggleable__control sk-hidden--visually\" id=\"sk-estimator-id-1\" type=\"checkbox\" checked><label for=\"sk-estimator-id-1\" class=\"sk-toggleable__label sk-toggleable__label-arrow\">MultinomialNB</label><div class=\"sk-toggleable__content\"><pre>MultinomialNB(alpha=2, fit_prior=0)</pre></div></div></div></div></div>"
      ],
      "text/plain": [
       "MultinomialNB(alpha=2, fit_prior=0)"
      ]
     },
     "execution_count": 19,
     "metadata": {},
     "output_type": "execute_result"
    }
   ],
   "source": [
    "classifier = MultinomialNB(alpha=2, fit_prior=0)\n",
    "classifier.fit(X, y)"
   ]
  },
  {
   "cell_type": "markdown",
   "id": "c699150f",
   "metadata": {},
   "source": [
    "## Get some random news text under CNN"
   ]
  },
  {
   "cell_type": "code",
   "execution_count": 20,
   "id": "e06a1e1b",
   "metadata": {},
   "outputs": [
    {
     "name": "stdout",
     "output_type": "stream",
     "text": [
      "                                                news\n",
      "0  CNN news The Amazon is a place that both Brazi...\n"
     ]
    }
   ],
   "source": [
    "text_cnn_news = 'CNN news The Amazon is a place that both Brazil’s former military regime and President Jair Bolsonaro have eyed with dreams of development, looking to take advantage of bountiful resources. It’s a place where Bolsonaro’s deconstruction of state institutions is wreaking havoc. Where illegal and armed actors are pushing into formerly protected areas and plundering the land to make a quick profit. Where Indigenous people are constantly under threat, whether staring down the barrel of a gun, fires, or COVID, and their territories and their way of life are under attack — the invaders slowly eating away at the forests that have given them life for generations. And where Bolsonaro has been empowering those behind the devastation. There is no other place in Brazil that better symbolizes the destruction that Bolsonaro has wrought on the country. The Amazon is under attack. The fires are just the most visible sign. This is Brazil on Fire, a podcast about Brazil’s descent toward fascism under President Jair Bolsonaro. Over these six episodes we look at Bolsonaro’s far-right government that has set the country ablaze, and how the United States helped him do it. We’ll visit the birthplace of Brazilian Nazism, evangelical churches, and Indigenous villages in the Amazon.  Hosted by Latin America-based journalist Michael Fox. This podcast is produced in partnership between The Real News Network and NACLA. Edited by Heather Gies. Sound design by Gustavo Türck.Theme music by Monte Perdido. TRANSCRIPT Michael Fox:  São Paulo, Brazil. August 19, 2019. It’s mid-afternoon, but the sky is as dark as night. Street lamps turn on. Car headlights. Residents across the city stare up at the sky. Several videos like this go viral across the country. It’s an apocalyptic scene. See, thousands of fires are blazing across the Amazon, more than a thousand miles away. And the smoke has engulfed Brazil’s financial capital.  This scene draws the nation’s attention to the Amazon. Within days, protests ripple across the country, demanding action to stop the fires. You probably remember this – It was the front page story for a few days.  The fires have hit epic proportions. And President Jair Bolsonaro is to blame. That’s what they’re chanting here in my town of Florianopolis in one of dozens of demonstrations happening across Brazil and the world: “Get out Bolsonaro. We need the Amazon.” Protesters young and old are amassed on the steps of the city’s main cathedral near narrow pedestrian streets lined with stores. They carry signs: “We can’t eat money.” “Your beef is burning the Amazon.” “Save our forest.” Behind them is a large, inflatable blue globe. They take turns speaking to the crowd.  “I feel like we are not caring for what is really important: our planet,” says Luiza Goldinho Vieira. She’s a young chemistry student, with thick brown glasses and long dark hair. “I feel completely destroyed,” she says. “I feel like a piece of me is burning.” They slam President Bolsonaro for causing the fires and failing to stop them. Bolsonaro has long promised to open up the Amazon for development and end the process of recognizing Indigenous lands. And his rhetoric, plus government cuts to Indigenous and environmental agencies, has spurred farmers, loggers, and land grabbers into action. “They said there’d be no more fines for those who set fire or cut down trees, and that’s what happened here,” says Jesuina Alves Braga. She’s an organic farmer from a Landless Workers’ Movement settlement in the Amazonian state of Acre. In a video shared online, she sits before a patch of scorched earth, black tree trunks on their sides like fallen soldiers. “People were empowered,” she says, “and that’s what they did. They set their fires without worrying if it would impact their neighbor or not.” Farmers often set fires during the dry season to clear pastures. But under Bolsonaro’s administration, they have also used the burns to extend their reach, ripping into conservation areas and Indigenous territories. The August 2019 fires were planned by a group of roughly 70 powerful farmers, land grabbers, and businessmen in the Amazonian state of Para. They set the date for August 10. The idea was to show their support for President Bolsonaro and his policy of weakening environmental inspections and fines. They coordinated over the messaging application WhatsApp, and even took out an ad in a local newspaper urging others to join. They called it “The Day of Fire.” Both Brazil’s environment agency and the justice ministry were alerted of the plans days in advance. They did nothing. On The Day of Fire – August 10, 2019 – Nearly 1,500 separate blazes were registered across the state. Large landowners across the Amazon followed their lead. In the following days and weeks, the fires would catch across the region, a third of them on protected land. More than 4,700 fires burned on Indigenous territories throughout August. “We will resist,” says a young Indigenous leader from Xingu territory in a video shared widely over social media. She wears a crown of tall yellow feathers. Members of her tribe stand behind her. Xingu land is among the top 12 Indigenous territories most impacted by the fires. But they are taking their toll everywhere across the Amazon. Around this time, I got in touch with Andre Karipuna. He’s the young chief of the Karipuna people, a tribe of about only 60 residents in territory in the Brazilian state of Rondonia, one of the places where fires have been blazing out of control. “There’s been smoke everywhere here,” he told me over the phone. He says illegal land grabbers set fire to at least one section of their territory, which had already been illegally cleared. “Since there are so many burns, it’s really hurting our health,” he says. “We’ve been sneezing and coughing. We’ve had trouble breathing because of the smoke.” But it’s not just the fires. Andre has received death threats. And he says he can hear the tractors at night, ripping up their forest just a few miles away from their village. And the Brazilian state, which used to protect these people and their territories, has left them exposed and unguarded. Andre is concerned for himself. He’s concerned for his people. This is what Bolsonaro has unleashed on the Amazon: a literal and metaphorical firestorm – Threats, violence, flames and smoke. And 2019 is only the beginning. Bolsonaro has gutted state regulatory agencies that previously protected the land and the Indigenous peoples living there. He’s pushed to free up mining and natural resource extraction on Indigenous territories, and he’s empowered illegal actors who have invaded Indigenous territories like never before. Thousands of illegal miners, loggers, narcotraffickers, and land grabbers fighting to profit off the destruction of the “lungs of the planet”.  There is a clash of civilizations here – A clash of worlds. And a Wild West attitude that has led to ever increasing threats and violence against Indigenous peoples and their allies. There is no other place in Brazil that better symbolizes the destruction that Bolsonaro has wrought on the country. The Amazon is ground zero, and it is under attack.  This is Brazil on Fire, a podcast about Brazil’s descent toward fascism under President Jair Bolsonaro. This podcast is produced in collaboration with The Real News and NACLA. I’m your host, Michael Fox. I’m a long-time radio reporter and multimedia journalist. I’ve lived in Brazil for years, and I’ve covered Bolsonaro and his government closely. Over these 6 episodes, I’m taking you on a journey to understand the story of Bolsonaro’s rise, and his far-right government that’s set the country ablaze.  Last episode, we looked at Bolsonaro’s relationship with the military and the legacy of the country’s 21-year dictatorship. Today, we take a deep dive into the Amazon, where Bolsonaro’s policies and actions are wreaking havoc on the environment and Indigenous communities.  This is Episode 6: “Amazon up in Smoke: Policies of Destruction”  It’s February 2020. I’m on a flight up to Carajas Airport, in the East of the Amazonian state of Pará. This is the same state where the fires kicked off a few months ago. But this state is massive. Like if Pará alone were a country, it’d be the 23rd largest in the world. It’s almost two and a half times the size of Spain. More than five times the size of the UK. And the difficulty of travel in some areas, because of the lack of paved roads, makes it seem even bigger.  Pará is just one of eight states that make up the Amazon in Northern Brazil. And, you know that image you have of the Amazon: Pristine jungle, endless forest, biodiversity. Well, it’s here, but it’s not what it used to be. And it’s harder to get to. See, huge areas of land here are either now under development or were already developed a long time ago. Take the Carajas Mountains, where I’m flying over now. Out the window, through the clouds, I catch glimpses of lush green jungle hillsides that seem formidable and endless. And then…. The landscape changes – It turns brown and gutted. Deep cuts scar the countryside as if slashed with a knife. It’s like a huge endless construction zone has been carved out of the hillsides, one after the other. It’s Carajas, the largest open-pit iron ore mine in the world. It’s run by the Brazilian multinational company Vale, one of the biggest mining corporations on the planet.  See, 60 years ago, this area was pristine, impenetrable jungle. Then, in 1967, representatives of US Steel – You know, the billion-dollar US multinational corporation – Well, they discovered rich mineral deposits here. Within a few years, US Steel and Vale formed a joint venture and began extracting millions of tons of iron ore per year.  The mine transformed not just the local environment, but the region. In 1976, the neighboring town of Parauapebas was founded in an area that was previously jungle. Today, with a population of around 200,000, it looks like any other Brazilian city. That’s how development works here. Resource extraction requires the building of roads, infrastructure, homes. Newcomers arrive in search of work, pushing Indigenous people off their land. The forest is either chopped up and sold as hardwood, or just cleared and burned to make room for the endless advance of so-called progress.  At least, that’s how it’s worked historically, especially under Brazil’s military dictatorship. See, it’s not by accident that the Carajas mine was founded then. We talked a lot about the dictatorship in the last episode, but there is something we didn’t get to that’s really important for understanding what’s happening in the Amazon today.  The military was all in for the development of the Amazon, particularly after they discovered the iron ore deposits at Carajas. They built roads and highways. They presented the Amazon as an enemy to be conquered, and encouraged thousands of Brazilians to uproot their families and move to the rainforest. They prom sed subsidies and financial incentives for cattle ranchers. One piece of propaganda in a 1972 newspaper read: “Drive your herd to the biggest pasture in the world.” The Amazon. They built rail lines, hydroelectric dams, and the TransAmazon highway. The Indigenous people who were there… They either needed to get on board or get out of the way. And that is what happened.  According to Brazil’s National Truth Commission, state forces under the dictatorship killed more than 8,000 Indigenous people in their push to clear the jungle and open up the region. Dozens of  tribes were impacted. Some were forcibly relocated as many as five times. Others were utterly decimated. Villages massacred, pushed to the brink of extermination. All in the name of the regime’s National Integration Plan. And the dictatorship’s Indigenous policies of integrate or get out have been reinstituted by president Bolsonaro, albeit under the guise of a more friendly approach.  “The Indians have changed. They are evolving,” Bolsonaro said during a Facebook livestream in 2020. “More and more they are human beings just like us. So we have to help them integrate into society and make them truly the owners of their Indigenous land.” Bolsonaro has been increasingly vocal about his take on the plight of Brazil’s Native peoples. On numerous occasions over the last two years, he’s met with Indigenous communities that are receptive to his call to open up the region to development. “The Indians want to work,” he told cameras last August, while wearing a colorful feather headdress and a bow and arrow slung over his shoulder. “They want the Internet. They want to pay taxes, and we should give them freedom to work, to produce, to integrate themselves into Brazilian society,” he said. That position is 180 degrees from the state policies that guided Brazil’s Indigenous affairs for the last three decades, and which defended Indigenous peoples’ right to remain on their land. A right protected in the 1988 Constitution. Each year, state institutions slowly demarcated and officially recognized more Indigenous territories. But on the campaign trail in 2018, Bolsonaro promised “Not one centimeter more for Indigenous lands…” It was a powerful sign. And one that set the tone for illegal actors hoping to roll back Indigenous rights and land protections in the Amazon.  “The Bolsonaro government gave people a sense of carte blanche,” says anthropologist Barbara Arisi. “Carte blanche to deforest. Carte blanche to attack. The people felt this moment of ‘now is the time to take what we want.’ This idea that a developed Brazil is a Brazil where the forest and the Indians are gone. It’s not true. In fact, it’s the exact opposite of the ecological discourse of everyone else… But that’s what they’ve pushed for,” she says. Land invasions of Indigenous territories spiked 150% just in the first months of Bolsonaro’s presidency. Meanwhile, the president began to push for legislation that would open their territories to resource extraction. [Jair Bolsonaro speaking] That’s him in early 2020, presenting a new bill to congress aimed at opening access to new mining concessions in Indigenous areas. Rodrigo Toniol is an anthropologist at the Federal University of Rio de Janeiro. Rodrigo Toniol:  For Bolsonaro, the Amazon is a great treasure chest, and it needs to be exploited, but there are Indians in the way. So Bolsonaro’s working to find a means to destroy the protections that the Indigenous peoples have acquired. Michael Fox:  Indigenous peoples have been one of the greatest opponents to Bolsonaro. They have marched, protested, rallied, and held ceremonies against his policies. They’ve descended on Brasilia by the thousands several times during Bolsonaro’s government, setting up week-long encampments to push back on the president, or to pressure for their rights during important legislative debates. The sounds of their dancing and chants have echoed across the streets outside Congress and the Supreme Court, which have repeatedly debated key issues affecting Indigenous peoples, their territories, and their futures.  Essential to it all, is the defense of their territories. The demarcation of their land. This is important. Today Brazil has almost 500 officially recognized Indigenous territories. Another 700 are at different stages of the demarcation process. And that distinction makes a big difference. That’s what I learned from Manuel Verona. He’s an 82-year-old former chief of the Juruna people, who have lived on their land along the banks of Xingu river for generations. Today, just over two dozen families live here on Paquiçamba Territory, officially recognized as Indigenous land since 2014. It’s on the outskirts of the city of Altamira. I traveled up there from Carajas by us; 14 hours.  Here, the Belo Monte dam has wreaked havoc. Since the dam went online in 2016, it’s cut as much as 85% of the river flow downstream, drying up spawning areas and suffocating the river, killing tons of fish. Now, these same communities are under threat from a Canadian firm known as Belo Sun hoping to mine for gold upstream.  I’m on Manuel’s front porch. The sound of the insects hums through the damp drizzly air. He wears a green shirt. Checkered shorts. Short, unkept hair. “I was born and raised, right here,” he says, defiantly. We talk about many things that evening, his family members sitting around listening. But one thing in particular catches my attention. He tells me how a few years ago, some guys from town came and told them that the land was theirs. That they were there to take it back. But because of the recognition and demarcation process, Manuel had an official document from the Indigenous agency, Funai. It said the land belonged to the Juruna people. The guys eventually left.  But they weren’t the only ones. Attempts to steal Indigenous lands go back as far as the arrival of the first Europeans. In colonial times, powerful individuals would fabricate documents from official institutions that falsely showed they were the owners. Excuses to push people from their lands. It’s the same story today. But land invaders, empowered by president Bolsonaro, have been even more active, and more violent.  “Bolsonaro’s goal is to do away with the Juruna people,” says Manuel Verona’s grandson, Cleyson, who is now the chief of the tribe. “I believe he wants to do away with the Indigenous peoples altogether,” he says.  And amid the pandemic, Indigenous peoples’ resistance would be put to the test. That, in a minute. In March 2020, I was headed to visit the territory of the Munduruku. They’re an Indigenous people who live on the banks of the Tapajos River. Their land has been invaded by illegal miners. I was planning to spend a week traveling by boat across their land, visiting one village and the next. And then COVID hit. The trip was off. As best as they could, Indigenous peoples tried to shelter themselves from the outside to protect their communities from the virus. Isolated Indigenous groups were even more susceptible to coronavirus than the rest of the population. Bolsonaro’s government largely turned its back, claiming the disease wasn’t a big deal. Indigenous peoples were left to fend for themselves. Many communities set up their own health barricades, where they regulated who entered their lands, checked temperatures, and sprayed people down with disinfectant, if they could get it. Even so, COVID found its way through. The disease spread. The death count rose. Historic elders and leaders died: Chiefs Aritana Yawalapiti and Paulinho Paiakan, Macuxi artist and healer Vovó Bernaldina. And so many more. “We can’t bring these people back to reshare their knowledge that they acquired over their long lives,” Nildo Fontes, a member of the Tucano tribe in the upper Rio Negro told me. He lost his uncle, a tribal elder, to coronavirus. “Our biggest concern now,” he says, “is to monitor our leaders with traditional knowledge who are left and to find a way to record their learning in order to carry on.” Some peoples, like the Kayapó, protested, blocking a major highway, demanding attention from the government. Bolsonaro’s government would eventually send in the military. In one highly publicized case, a detachment of the Armed Forces flew to Yanomami communities and handed out boxes of the unproven drug hydroxychloroquine. When Brazil’s Senate investigated Bolsonaro’s handling of the pandemic, they accused the president of crimes against humanity, for failing to protect the country’s Indigenous populations. Over 1300 Indigenous people have died from COVID-19 according to the country’s largest Indigenous group, APIB. According to government figures, during the first four months of the pandemic in Brazil, the state Indigenous agency FUNAI spent less than $2.00 for each Indigenous person on efforts to fight COVID-19 in their communities. Meanwhile, the government actually decreased spending on Indigenous health during the pandemic.The lack of attention, however, was not only in the area of health. During the pandemic, Bolsonaro rolled back funding for protecting conservation areas and Indigenous territories and peoples. He further gutted the environment and Indigenous agencies. “The government has been completely absent,” Dinaman Tuxa, one of the leaders of APIB told me. “It’s the result of a political project focused on undoing Indigenous policies across the country and applying structural and institutional racism against Indigenous peoples,.” he said.  Illegal and armed actors took advantage. They pushed onto protected and Native territories like never before. No where was this felt more deeply than in Yanomami territory – The country’s largest Indigenous land, near the border with Venezuela. Today, there are roughly 20,000 illegal miners just on Yanomami land.  Their operations grew by 30% during the first year of the pandemic, with nearly 6,000 acres of land deforested. Images of mining areas there show a wasteland of cleared forest, brown dirt, and contaminated pits. The miners have brought disease, drugs, alcohol and other vices. And they have been violent.  It’s May 2021. A group of Indigenous Yanomami women in brightly colored shirts line a hillside in the Amazonian village of Palimiu. Suddenly, shots are fired from a speedboat rushing by on the river below. The women run, carrying babies in their arms, and dragging small children by their sides. They race off camera toward the trees.  According to reports, three people were injured. Two children died, drowned during the confusion. Out of fear, many slept in the forest, where some caught pneumonia. Attacks like this, with gunshots and tear gas bombs, continued against the community for days. “This is a threat to the life of the forest, a threat to the lives of people who live in their villages, the children, women, and elderly,” Dario Kopenawa, vice-president of the Hutukara association, told me. His group represents more than 370 Yanomami and Yekuana communities. “Mining kills,” he said. “It murders people. It destroys the life of Mother Earth.” Less than a month later, Indigenous peoples from across Brazil would take their indignation to the streets of Brasilia. June 2021. Almost a thousand members of Indigenous tribes across Brazil are camped in the country’s capital. They call it an occupation in defense of their lives. It comes just weeks after the violent attacks against the Yanonmami and amid legislative battles and a court case that could have lasting repercussions for Native peoples. “There are Indigenous peoples from across Brazil here,” said Ricardo Pataxó, a young Pataxó leader wearing a face mask and a beaded necklace. “We are resisting, and more Indigenous people are on their way.” They’ve shut down streets, protested in front of the Mining Ministry, and marched to the start of the Copa America soccer tournament. Their actions have been shared in countless videos over social media. This is the most active Indigenous mobilization in Brazil since the start of the pandemic, and it’s being organized by the country’s largest Indigenous organizations. In a video, rows of Indigenous men wearing armbands and feathered headdresses chant behind a metal fence. Before them, a pack of policemen block the locked entrance into a Congressional building. Inside, Indigenous representative Joênia Wapixana is fighting a bill that Bolsonaro’s allies are trying to push through Congress. If approved, the legislation would weaken Indigenous people’s right to their land and open the door to extractive industries. The thing is, Bolsonaro has powerful allies in Congress. I mean, his Agriculture Minister Tereza Cristina is the former head of Brazil’s Big Ag caucus. And that group composes literally half of Congressional representatives. They are powerful. Pro-agribusiness. Pro-development. And largely against rights for Indigenous peoples and small farmers.  Remember, large-scale agricultural production represents a substantial chunk of Brazil’s GDP. The country is the world’s number one producer and exporter of coffee, sugar, beef, poultry, orange juice, and tobacco, and number two in soybeans, after the US. The production of these products for export – Especially cattle and soy – Is a major factor driving the deforestation of the Amazon rainforest.  According to a recent report, powerful US banks, businesses, and mutual funds have invested billions of US dollars in companies financing Brazil’s agribusiness lobby. Among them are JP Morgan Chase, Bank of America, and BlackRock.  And agribusiness is responsible for the lion’s share of Brazilian deforestation –  97% of it in 2021. I saw the impact on the land first hand.  Up and down the state of Pará, cattle ranches line the major highways, stretching across the countryside off into the horizon. Only a few decades ago, these areas were dense jungle and inhabited by Indigenous communities. In the Amazon port city of Santarem, food and ag giant Cargill owns and operates a huge grain terminal that stretches out into the river, so it can easily load endless tons of soy onto the line of ships waiting to carry it into the world. Cargill alone exports more than 10 million tons of soy from Brazil each year. Soy fields pour out over the surrounding countryside. I mention all this because these powerful interests and multinational corporations have backed Bolsonaro’s push to increasingly open up the region to development.  But where some see growth, others see devastation. I don’t know if you heard, but the fires are back. This year, they got almost no media attention at all. But they were worse than last year, 2020, 2019, and any other point in the last decade.  Ane Alencar:  In the past three years, we reached another level of the deforestation, which is above ten thousand square kilometers a year. We haven’t seen that since 2008. Michael Fox:  That’s Ane Alencar, science director at the Brazilian Amazon Environmental Research Institute. Ane Alencar:  So 51% of all deforestation in the Brazilian Amazon biome has been happening in the past three years on public lands, which means that people are taking advantage of what is happening in terms of lower enforcement to invade and to grab public lands. Because this apparently became a lower-risk activity. Michael Fox:  Public lands. That means conservation areas, protected reserves. Indigenous territories. And this is not normal for Brazil. Neither is the organized crime connection – Ane says narcotraffickers and powerful illegal groups are also getting involved, investing a lot of resources to clear the forest for future land speculation, and, above all, cattle ranching. Ane Alencar:  People are putting machinery like tractors to pile up the logs and make this very clean deforestation operation, and when you set a fire you just completely clean the landscape. And this is in the middle of nowhere… So it means that people did a lot of investment to have this, and it’s on public land. It’s illegal. So they must be very confident that nothing’s going to happen for them to risk all this investment. Michael Fox:  These are the signs of the destruction wrought by Bolsonaro’s government. See, like I mentioned at the beginning of the episode, fires do not burn naturally in the Amazon. First, the forest is clear cut. In other words, every acre burned is an acre deforested. An acre taken out of the jungle and razed to make way for cattle, or soy, roads, or subdivisions, all pushed by Bolsonaro’s rhetoric and policies of destruction. That term: policies of destruction. It’s something I’ve heard a lot over the last four years. It’s come up in interview after interview. Many describe the actions of Bolsonaro’s government as policies of death. And the nearly 700,000 dead from COVID-19 accents this point perfectly. Policies of destruction. “Brazil is being destroyed, land, air, and sea,” Professor Emiliano Jose tells me. Remember, he’s the retired communications professor who we heard from in the last episode. He’s the one who fought the dictatorship in his youth. Emiliano Jose da Silva Filho:  It’s the complete destruction of the country. Bolsonaro is handing the country over to foreign interests. Handing out our oil reserves. Destroying the Amazon. Destroying the country. Michael Fox:  This isn’t just about the havoc that Bolsonaro is unleashing across Brazil. It’s also about how his government has gutted state agencies and state-owned businesses to do so. Auctioning off portions of the country: infrastructure, airports, natural resources, state assets. As Emiliano Jose said last episode: It’s about the unraveling of the country’s democracy. This is a key theme of fascism. The destruction of liberal democracy and the objectification of humanity, which often leads to violence. Violence – It’s a constant undercurrent in the Amazon. Last year, dozens of Indigenous people were killed there in conflicts over their territory. This year, the killing of two Indigenous allies, anthropologist Bruno Perreira and British reporter Dom Phillips, captured headlines for weeks. Dehumanization turned violence is also what we saw in the leadup to the 2018 elections – The killing of Moa de Katende, Charlione Lessa, Marielle Franco. And it’s what we’re seeing now, with numerous attacks and even killings in recent months, carried out mostly by Bolsonaro supporters against their political opponents. According to a recent poll, two thirds of Brazilians say they fear being attacked because of their political preferences. Two thirds. Here’s historian Federico Finchelstein, our go-to expert on fascism. Federico Finchelstein:  One of the key elements of fascism is this kind of radical dehumanization. This process of regarding subjects as objects not only applies to people, but also nature, and animals, and other forms of life. And I think this is one of the most horrible legacies of Bolsonaro. The attack not only on people – Let’s not forget his lies about COVID and his anti-vaccination drive – But also his lack of regard for nature as another dimension of his lack of regard for life, and treating everything as an object, and an object of manipulation. Michael Fox:  As we talked about back in the introduction to the podcast series, neither Federico nor I are saying that Brazil is a fascist state. It is not. It’s not a dictatorship. It is still a democracy, though with troubling backslides. Bolsonaro has pushed the country toward fascism in a dangerous way. And the upcoming presidential elections are really important.  Federico Finchelstein:  “This is not a mere Brazilian election or a mere election as such, but rather one that defines, I think, the future of democracy in our region, in Latin America and beyond. Whether this Trumpist recipe still works on or it continues its patterns of failures starting with January 6 in the US. And then we can learn a lot about if, as I hope, Brazilian society stays firm against these threats, that basically there is a way out of this authoritarianism, there is a way out of this manipulation and lies. And the way out is through democratic means. Michael Fox:  That is what’s at stake in the coming weeks in Brazil. The future of not just Brazil, but the region, including the United States. As the title for the introduction to the podcast series says: Democracy and Dictatorship. One model is devastation. The other is life. And tackling Amazon deforestation is not impossible. It’s happened before.  When Luiz Inácio Lula da Silva came to power twenty years ago, deforestation rates in the Amazon were through the roof. He enacted a series of landmark measures to curb deforestation.  New strict regulations, inspections, land registries, wood and meat tracking systems. These efforts were a huge success. They cut deforestation rates in half within two years. Brazil even hit its UN 2020 goal of reducing greenhouse gas emissions from deforestation ahead of schedule. Of course, that was before Bolsonaro unraveled it all. I want to bring one person back here. That’s Andre Karipuna. The young leader of the Karipuna people, who I introduced at the beginning of the episode. I spoke with him recently over the phone while he was in Brasilia, lobbying politicians and foreign embassies to pressure the Brazilian government to protect their people. He says over the last four years, things have only gotten worse. Andre Karipuna:  Everything has been undone. Rights for access to health. Protection of our territory. Education for Indigenous peoples. Michael Fox:  And he fears that the relentless attack could still get worse. He says that laws now under debate in Brasilia could strip Indigenous peoples of their rights across the country. When I first spoke with him four years ago, you could look on Google Earth and see his people’s territory. It was this large green block, surrounded by a checkerboard of shades of yellow – The roads, homes and farmlands that had been carved out of the jungle in recent decades. But even at the time, if you zoomed in and looked closely, you could see lines cutting into their land like little daggers.  Well, over the years, I’ve kept an eye on his territory from Google Earth. But lately, I’ve been kind of afraid to look. Where there were small slivers of roads before, today, whole parcels of the Karipuna territory are cleared, as if their land title isn’t worth the paper it’s printed on. Long lines dig into their land like thin bony fingers reaching into the very essence of their existence. They run North and South, East and West, following the pattern of the roads that are supposed to stop along the edge of their territory. The perimeter of their land is too large for the Karipuna people to patrol it all. And the state has largely abandoned them. So they’re doing their best to hold on.  This is the true cost of Bolsonaro and his government that has set the country ablaze. This is Brazil on Fire. That is all for this podcast series. I hope you’ve enjoyed it. I know I have. It’s been a labor of love for many years, and I am overjoyed to put it out into the world.  Now, although the first six episodes are over, the series is not. In the coming weeks, I hope to be bringing you some exclusive interviews on some of the topics I covered and many more that really deserve greater attention, like education and the big 2019 student rallies. Or the deep ties between Trump, Bannon, Bolsonaro, his kids, and so much more. I’ll also be updating you on the Brazilian elections in the coming weeks. The first round is this Sunday, October 2. So stay tuned and keep your eyes on the feed.  Before I go, I want to thank everyone who donated to my Kickstarter campaign for this podcast nearly two years ago. It was crucial to getting things off the ground, and I am forever grateful. In particular, I really want to thank the following people: Eric Kinzler, Jim Chomas, Tom Rall, Michael Locker, Supapan Kantithammikorn, Patti Simbulan (my old music teacher), Ryan Harvey, Dot Goodman, Greg Wilpert, Kayo de Oliveira, T.M. Scruggs, Bob Friedman, Lee Wilkinson, Kevin Danaher, Scott Bayliss, Sam Dodge, Gabriel Eiras Villa, Georgia Malki, Richard Black, Jacob Wascalus, Jordan Klein, Burke Stansbury, Ben Dangl, Marc Becker, Chris Michael. Diane Murphy. And in particular, a huge shout out to Judy Hughes, my parents Michael and Maryann Fox, and the Sawyers. Y’all are amazing. Thank you also to audio producers Zoe Sullivan and Jill Replogle for their guidance and support. And also thanks to PRI’s The World, for whom I first reported MANY of these stories that have appeared over these six episodes. And for whom I will be reporting from Brazil in the coming weeks. Finally, of course, many, many thanks to the teams at both The Real News and NACLA. It has been a pleasure. This is Brazil on Fire. Co-produced in collaboration with The Real News and NACLA. This series was edited by Heather Gies. Sound design by Gustavo Türck, at Coletivo Catarse. Theme music was by my band Monte Perdido. The other music was licensed from Blue Dot Sessions. '\n",
    "\n",
    "text_dict = {'news' : [ text_cnn_news ] }\n",
    "dataset_to_predict = pd.DataFrame(text_dict)\n",
    "print(dataset_to_predict.iloc[:,:])"
   ]
  },
  {
   "cell_type": "code",
   "execution_count": 21,
   "id": "4bef732d",
   "metadata": {},
   "outputs": [],
   "source": [
    "X_to_predict = cv.fit_transform(dataset_to_predict['news']).toarray()"
   ]
  },
  {
   "cell_type": "code",
   "execution_count": 22,
   "id": "68d0cdb6",
   "metadata": {},
   "outputs": [
    {
     "data": {
      "text/plain": [
       "array(['Photography'], dtype='<U31')"
      ]
     },
     "execution_count": 22,
     "metadata": {},
     "output_type": "execute_result"
    }
   ],
   "source": [
    "classifier.predict(X_to_predict)"
   ]
  },
  {
   "cell_type": "markdown",
   "id": "1de43c52",
   "metadata": {},
   "source": [
    "## The prediction is not right. We expect news, but got other. However we need to filter that text, removing what is not important"
   ]
  },
  {
   "cell_type": "code",
   "execution_count": 23,
   "id": "64510c81",
   "metadata": {},
   "outputs": [],
   "source": [
    "import nltk\n",
    "from nltk import tokenize\n",
    "from nltk.stem import PorterStemmer\n",
    "import unicodedata\n",
    "\n",
    "words_banned = nltk.corpus.stopwords.words(\"english\")\n",
    "token_punct = tokenize.WordPunctTokenizer()\n",
    "stemmer = PorterStemmer()\n",
    "\n",
    "# remove letters with punct and morphological variants\n",
    "aux_pos = 0\n",
    "for word_banned in words_banned:\n",
    "    word_banned = unicodedata.normalize(\"NFD\", word_banned)\n",
    "    word_banned = word_banned.encode(\"ascii\", \"ignore\")\n",
    "    word_banned = word_banned.decode(\"utf-8\")\n",
    "    \n",
    "    words_banned[aux_pos] = stemmer.stem(word_banned)\n",
    "    aux_pos += 1\n",
    "\n",
    "# remove possible duplicated words\n",
    "words_banned = list(dict.fromkeys(words_banned))\n",
    "\n",
    "# remove banned words\n",
    "dataset_position = 0\n",
    "for text in dataset_to_predict.news:\n",
    "    phrase = list()\n",
    "    # tokenize the text\n",
    "    phrase_tokenized = token_punct.tokenize(text)\n",
    "    stemmer = PorterStemmer()\n",
    "    # treat the words\n",
    "    for word in phrase_tokenized:\n",
    "        # remove words with punct\n",
    "        word = unicodedata.normalize(\"NFD\", word)\n",
    "        word = word.encode(\"ascii\", \"ignore\")\n",
    "        word = word.decode(\"utf-8\")\n",
    "\n",
    "        # remove capital letters\n",
    "        word = word.lower()\n",
    "        \n",
    "        # remove morphological variants\n",
    "        word = stemmer.stem(word)\n",
    "        \n",
    "        # if the word is not banned, add to the phrase\n",
    "        if word not in words_banned:\n",
    "            phrase.append(word)\n",
    "            \n",
    "    # append as one phrase\n",
    "    phrase_processed = ' '.join(phrase)\n",
    "    \n",
    "    # save in the dataframe\n",
    "    dataset_to_predict.loc[dataset_position,'news'] = phrase_processed\n",
    "    \n",
    "    # increment the row position\n",
    "    dataset_position += 1"
   ]
  },
  {
   "cell_type": "markdown",
   "id": "399fd0c3",
   "metadata": {},
   "source": [
    "## After process the text:"
   ]
  },
  {
   "cell_type": "code",
   "execution_count": 24,
   "id": "7395c19e",
   "metadata": {},
   "outputs": [
    {
     "name": "stdout",
     "output_type": "stream",
     "text": [
      "cnn news amazon place brazil  former militari regim presid jair bolsonaro eye dream develop , look take advantag bounti resourc .  place bolsonaro  deconstruct state institut wreak havoc . illeg arm actor push formerli protect area plunder land make quick profit . indigen peopl constantli threat , whether stare barrel gun , fire , covid , territori way life attack  invad slowli eat away forest given life gener . bolsonaro empow behind devast . place brazil better symbol destruct bolsonaro wrought countri . amazon attack . fire visibl sign . brazil fire , podcast brazil  descent toward fascism presid jair bolsonaro . six episod look bolsonaro  far - right govern set countri ablaz , unit state help .  visit birthplac brazilian nazism , evangel church , indigen villag amazon . host latin america - base journalist michael fox . podcast produc partnership real news network nacla . edit heather gie . sound design gustavo turck . theme music mont perdido . transcript michael fox : sao paulo , brazil . august 19 , 2019 .  mid - afternoon , sky dark night . street lamp turn . car headlight . resid across citi stare sky . sever video like go viral across countri .  apocalypt scene . see , thousand fire blaze across amazon , thousand mile away . smoke engulf brazil  financi capit . scene draw nation  attent amazon . within day , protest rippl across countri , demand action stop fire . probabl rememb  front page stori day . fire hit epic proport . presid jair bolsonaro blame .   chant town florianopoli one dozen demonstr happen across brazil world :  get bolsonaro . need amazon . protest young old amass step citi  main cathedr near narrow pedestrian street line store . carri sign :   eat money .  beef burn amazon .  save forest . behind larg , inflat blue globe . take turn speak crowd .  feel like care realli import : planet , say luiza goldinho vieira .  young chemistri student , thick brown glass long dark hair .  feel complet destroy , say .  feel like piec burn . slam presid bolsonaro caus fire fail stop . bolsonaro long promis open amazon develop end process recogn indigen land . rhetor , plu govern cut indigen environment agenc , spur farmer , logger , land grabber action .  said  fine set fire cut tree ,  happen , say jesuina alv braga .  organ farmer landless worker  movement settlement amazonian state acr . video share onlin , sit patch scorch earth , black tree trunk side like fallen soldier .  peopl empow , say ,   . set fire without worri would impact neighbor . farmer often set fire dri season clear pastur . bolsonaro  administr , also use burn extend reach , rip conserv area indigen territori . august 2019 fire plan group roughli 70 power farmer , land grabber , businessmen amazonian state para . set date august 10 . idea show support presid bolsonaro polici weaken environment inspect fine . coordin messag applic whatsapp , even took ad local newspap urg join . call  day fire . brazil  environ agenc justic ministri alert plan day advanc . noth . day fire  august 10 , 2019  nearli 1 , 500 separ blaze regist across state . larg landown across amazon follow lead . follow day week , fire would catch across region , third protect land . 4 , 700 fire burn indigen territori throughout august .  resist , say young indigen leader xingu territori video share wide social media . wear crown tall yellow feather . member tribe stand behind . xingu land among top 12 indigen territori impact fire . take toll everywher across amazon . around time , got touch andr karipuna .  young chief karipuna peopl , tribe 60 resid territori brazilian state rondonia , one place fire blaze control .   smoke everywher , told phone . say illeg land grabber set fire least one section territori , alreadi illeg clear .  sinc mani burn ,  realli hurt health , say .   sneez cough .  troubl breath smoke .  fire . andr receiv death threat . say hear tractor night , rip forest mile away villag . brazilian state , use protect peopl territori , left expos unguard . andr concern .  concern peopl . bolsonaro unleash amazon : liter metaphor firestorm  threat , violenc , flame smoke . 2019 begin . bolsonaro gut state regulatori agenc previous protect land indigen peopl live .  push free mine natur resourc extract indigen territori ,  empow illeg actor invad indigen territori like never . thousand illeg miner , logger , narcotraffick , land grabber fight profit destruct  lung planet . clash civil  clash world . wild west attitud led ever increas threat violenc indigen peopl alli . place brazil better symbol destruct bolsonaro wrought countri . amazon ground zero , attack . brazil fire , podcast brazil  descent toward fascism presid jair bolsonaro . podcast produc collabor real news nacla .  host , michael fox .  long - time radio report multimedia journalist .  live brazil year ,  cover bolsonaro govern close . 6 episod ,  take journey understand stori bolsonaro  rise , far - right govern  set countri ablaz . last episod , look bolsonaro  relationship militari legaci countri  21 - year dictatorship . today , take deep dive amazon , bolsonaro  polici action wreak havoc environ indigen commun . episod 6 :  amazon smoke : polici destruct   februari 2020 .  flight caraja airport , east amazonian state para . state fire kick month ago . state massiv . like para alon countri ,  23rd largest world .  almost two half time size spain . five time size uk . difficulti travel area , lack pave road , make seem even bigger . para one eight state make amazon northern brazil . , know imag amazon : pristin jungl , endless forest , biodivers . well ,  ,  use .  harder get . see , huge area land either develop alreadi develop long time ago . take caraja mountain ,  fli . window , cloud , catch glimps lush green jungl hillsid seem formid endless . . landscap chang  turn brown gut . deep cut scar countrysid slash knife .  like huge endless construct zone carv hillsid , one .  caraja , largest open - pit iron ore mine world .  run brazilian multin compani vale , one biggest mine corpor planet . see , 60 year ago , area pristin , impenetr jungl . , 1967 , repres us steel  know , billion - dollar us multin corpor  well , discov rich miner deposit . within year , us steel vale form joint ventur began extract million ton iron ore per year . mine transform local environ , region . 1976 , neighbor town parauapeba found area previous jungl . today , popul around 200 , 000 , look like brazilian citi .  develop work . resourc extract requir build road , infrastructur , home . newcom arriv search work , push indigen peopl land . forest either chop sold hardwood , clear burn make room endless advanc - call progress . least ,   work histor , especi brazil  militari dictatorship . see ,  accid caraja mine found . talk lot dictatorship last episod , someth  get  realli import understand  happen amazon today . militari develop amazon , particularli discov iron ore deposit caraja . built road highway . present amazon enemi conquer , encourag thousand brazilian uproot famili move rainforest . prom sed subsidi financi incent cattl rancher . one piec propaganda 1972 newspap read :  drive herd biggest pastur world . amazon . built rail line , hydroelectr dam , transamazon highway . indigen peopl  either need get board get way . happen . accord brazil  nation truth commiss , state forc dictatorship kill 8 , 000 indigen peopl push clear jungl open region . dozen tribe impact . forcibl reloc mani five time . utterli decim . villag massacr , push brink extermin . name regim  nation integr plan . dictatorship  indigen polici integr get reinstitut presid bolsonaro , albeit guis friendli approach .  indian chang . evolv , bolsonaro said facebook livestream 2020 .  human like us . help integr societi make truli owner indigen land . bolsonaro increasingli vocal take plight brazil  nativ peopl . numer occas last two year ,  met indigen commun recept call open region develop .  indian want work , told camera last august , wear color feather headdress bow arrow slung shoulder .  want internet . want pay tax , give freedom work , produc , integr brazilian societi , said . posit 180 degre state polici guid brazil  indigen affair last three decad , defend indigen peopl  right remain land . right protect 1988 constitut . year , state institut slowli demarc offici recogn indigen territori . campaign trail 2018 , bolsonaro promis  one centimet indigen land  power sign . one set tone illeg actor hope roll back indigen right land protect amazon .  bolsonaro govern gave peopl sens cart blanch , say anthropologist barbara arisi .  cart blanch deforest . cart blanch attack . peopl felt moment  time take want . idea develop brazil brazil forest indian gone .  true . fact ,  exact opposit ecolog discours everyon els    push , say . land invas indigen territori spike 150 % first month bolsonaro  presid . meanwhil , presid began push legisl would open territori resourc extract . [ jair bolsonaro speak ]  earli 2020 , present new bill congress aim open access new mine concess indigen area . rodrigo toniol anthropologist feder univers rio de janeiro . rodrigo toniol : bolsonaro , amazon great treasur chest , need exploit , indian way . bolsonaro  work find mean destroy protect indigen peopl acquir . michael fox : indigen peopl one greatest oppon bolsonaro . march , protest , ralli , held ceremoni polici .  descend brasilia thousand sever time bolsonaro  govern , set week - long encamp push back presid , pressur right import legisl debat . sound danc chant echo across street outsid congress suprem court , repeatedli debat key issu affect indigen peopl , territori , futur . essenti , defens territori . demarc land . import . today brazil almost 500 offici recogn indigen territori . anoth 700 differ stage demarc process . distinct make big differ .  learn manuel verona .  82 - year - old former chief juruna peopl , live land along bank xingu river gener . today , two dozen famili live paquicamba territori , offici recogn indigen land sinc 2014 .  outskirt citi altamira . travel caraja us ; 14 hour . , belo mont dam wreak havoc . sinc dam went onlin 2016 ,  cut much 85 % river flow downstream , dri spawn area suffoc river , kill ton fish . , commun threat canadian firm known belo sun hope mine gold upstream .  manuel  front porch . sound insect hum damp drizzli air . wear green shirt . checker short . short , unkept hair .  born rais , right , say , defiantli . talk mani thing even , famili member sit around listen . one thing particular catch attent . tell year ago , guy town came told land . take back . recognit demarc process , manuel offici document indigen agenc , funai . said land belong juruna peopl . guy eventu left .  one . attempt steal indigen land go back far arriv first european . coloni time , power individu would fabric document offici institut fals show owner . excus push peopl land .  stori today . land invad , empow presid bolsonaro , even activ , violent .  bolsonaro  goal away juruna peopl , say manuel verona  grandson , cleyson , chief tribe .  believ want away indigen peopl altogeth , say . amid pandem , indigen peopl  resist would put test . , minut . march 2020 , head visit territori munduruku .  indigen peopl live bank tapajo river . land invad illeg miner . plan spend week travel boat across land , visit one villag next . covid hit . trip . best could , indigen peopl tri shelter outsid protect commun viru . isol indigen group even suscept coronaviru rest popul . bolsonaro  govern larg turn back , claim diseas  big deal . indigen peopl left fend . mani commun set health barricad , regul enter land , check temperatur , spray peopl disinfect , could get . even , covid found way . diseas spread . death count rose . histor elder leader die : chief aritana yawalap paulinho paiakan , macuxi artist healer vovo bernaldina . mani .   bring peopl back reshar knowledg acquir long live , nildo font , member tucano tribe upper rio negro told . lost uncl , tribal elder , coronaviru .  biggest concern , say ,  monitor leader tradit knowledg left find way record learn order carri . peopl , like kayapo , protest , block major highway , demand attent govern . bolsonaro  govern would eventu send militari . one highli public case , detach arm forc flew yanomami commun hand box unproven drug hydroxychloroquin . brazil  senat investig bolsonaro  handl pandem , accus presid crime human , fail protect countri  indigen popul . 1300 indigen peopl die covid - 19 accord countri  largest indigen group , apib . accord govern figur , first four month pandem brazil , state indigen agenc funai spent less $ 2 . 00 indigen person effort fight covid - 19 commun . meanwhil , govern actual decreas spend indigen health pandem . lack attent , howev , area health . pandem , bolsonaro roll back fund protect conserv area indigen territori peopl . gut environ indigen agenc .  govern complet absent , dinaman tuxa , one leader apib told .   result polit project focus undo indigen polici across countri appli structur institut racism indigen peopl ,. said . illeg arm actor took advantag . push onto protect nativ territori like never . felt deepli yanomami territori  countri  largest indigen land , near border venezuela . today , roughli 20 , 000 illeg miner yanomami land . oper grew 30 % first year pandem , nearli 6 , 000 acr land deforest . imag mine area show wasteland clear forest , brown dirt , contamin pit . miner brought diseas , drug , alcohol vice . violent .  may 2021 . group indigen yanomami women brightli color shirt line hillsid amazonian villag palimiu . suddenli , shot fire speedboat rush river . women run , carri babi arm , drag small children side . race camera toward tree . accord report , three peopl injur . two children die , drown confus . fear , mani slept forest , caught pneumonia . attack like , gunshot tear ga bomb , continu commun day .  threat life forest , threat live peopl live villag , children , women , elderli , dario kopenawa , vice - presid hutukara associ , told . group repres 370 yanomami yekuana commun .  mine kill , said .  murder peopl . destroy life mother earth . less month later , indigen peopl across brazil would take indign street brasilia . june 2021 . almost thousand member indigen tribe across brazil camp countri  capit . call occup defens live . come week violent attack yanonmami amid legisl battl court case could last repercuss nativ peopl .  indigen peopl across brazil , said ricardo pataxo , young pataxo leader wear face mask bead necklac .  resist , indigen peopl way .  shut street , protest front mine ministri , march start copa america soccer tournament . action share countless video social media . activ indigen mobil brazil sinc start pandem ,  organ countri  largest indigen organ . video , row indigen men wear armband feather headdress chant behind metal fenc . , pack policemen block lock entranc congression build . insid , indigen repres joenia wapixana fight bill bolsonaro  alli tri push congress . approv , legisl would weaken indigen peopl  right land open door extract industri . thing , bolsonaro power alli congress . mean , agricultur minist tereza cristina former head brazil  big ag caucu . group compos liter half congression repres . power . pro - agribusi . pro - develop . larg right indigen peopl small farmer . rememb , larg - scale agricultur product repres substanti chunk brazil  gdp . countri world  number one produc export coffe , sugar , beef , poultri , orang juic , tobacco , number two soybean , us . product product export  especi cattl soy  major factor drive deforest amazon rainforest . accord recent report , power us bank , busi , mutual fund invest billion us dollar compani financ brazil  agribusi lobbi . among jp morgan chase , bank america , blackrock . agribusi respons lion  share brazilian deforest  97 % 2021 . saw impact land first hand . state para , cattl ranch line major highway , stretch across countrysid horizon . decad ago , area dens jungl inhabit indigen commun . amazon port citi santarem , food ag giant cargil oper huge grain termin stretch river , easili load endless ton soy onto line ship wait carri world . cargil alon export 10 million ton soy brazil year . soy field pour surround countrysid . mention power interest multin corpor back bolsonaro  push increasingli open region develop . see growth , see devast .  know heard , fire back . year , got almost media attent . wors last year , 2020 , 2019 , point last decad . ane alencar : past three year , reach anoth level deforest , ten thousand squar kilomet year .  seen sinc 2008 . michael fox :  ane alencar , scienc director brazilian amazon environment research institut . ane alencar : 51 % deforest brazilian amazon biom happen past three year public land , mean peopl take advantag happen term lower enforc invad grab public land . appar becam lower - risk activ . michael fox : public land . mean conserv area , protect reserv . indigen territori . normal brazil . neither organ crime connect  ane say narcotraffick power illeg group also get involv , invest lot resourc clear forest futur land specul , , , cattl ranch . ane alencar : peopl put machineri like tractor pile log make clean deforest oper , set fire complet clean landscap . middl nowher  mean peopl lot invest ,  public land .  illeg . must confid noth  go happen risk invest . michael fox : sign destruct wrought bolsonaro  govern . see , like mention begin episod , fire burn natur amazon . first , forest clear cut . word , everi acr burn acr deforest . acr taken jungl raze make way cattl , soy , road , subdivis , push bolsonaro  rhetor polici destruct . term : polici destruct .  someth  heard lot last four year .  come interview interview . mani describ action bolsonaro  govern polici death . nearli 700 , 000 dead covid - 19 accent point perfectli . polici destruct .  brazil destroy , land , air , sea , professor emiliano jose tell . rememb ,  retir commun professor heard last episod .  one fought dictatorship youth . emiliano jose da silva filho :  complet destruct countri . bolsonaro hand countri foreign interest . hand oil reserv . destroy amazon . destroy countri . michael fox :  havoc bolsonaro unleash across brazil .  also govern gut state agenc state - busi . auction portion countri : infrastructur , airport , natur resourc , state asset . emiliano jose said last episod :  unravel countri  democraci . key theme fascism . destruct liber democraci objectif human , often lead violenc . violenc   constant undercurr amazon . last year , dozen indigen peopl kill conflict territori . year , kill two indigen alli , anthropologist bruno perreira british report dom phillip , captur headlin week . dehuman turn violenc also saw leadup 2018 elect  kill moa de katend , charlion lessa , mariel franco .   see , numer attack even kill recent month , carri mostli bolsonaro support polit oppon . accord recent poll , two third brazilian say fear attack polit prefer . two third .  historian federico finchelstein , go - expert fascism . federico finchelstein : one key element fascism kind radic dehuman . process regard subject object appli peopl , also natur , anim , form life . think one horribl legaci bolsonaro . attack peopl  let  forget lie covid anti - vaccin drive  also lack regard natur anoth dimens lack regard life , treat everyth object , object manipul . michael fox : talk back introduct podcast seri , neither federico say brazil fascist state . .  dictatorship . still democraci , though troubl backslid . bolsonaro push countri toward fascism danger way . upcom presidenti elect realli import . federico finchelstein :  mere brazilian elect mere elect , rather one defin , think , futur democraci region , latin america beyond . whether trumpist recip still work continu pattern failur start januari 6 us . learn lot , hope , brazilian societi stay firm threat , basic way authoritarian , way manipul lie . way democrat mean . michael fox :  stake come week brazil . futur brazil , region , includ unit state . titl introduct podcast seri say : democraci dictatorship . one model devast . life . tackl amazon deforest imposs .  happen . luiz inacio lula da silva came power twenti year ago , deforest rate amazon roof . enact seri landmark measur curb deforest . new strict regul , inspect , land registri , wood meat track system . effort huge success . cut deforest rate half within two year . brazil even hit un 2020 goal reduc greenhous ga emiss deforest ahead schedul . cours , bolsonaro unravel . want bring one person back .  andr karipuna . young leader karipuna peopl , introduc begin episod . spoke recent phone brasilia , lobbi politician foreign embassi pressur brazilian govern protect peopl . say last four year , thing gotten wors . andr karipuna : everyth undon . right access health . protect territori . educ indigen peopl . michael fox : fear relentless attack could still get wors . say law debat brasilia could strip indigen peopl right across countri . first spoke four year ago , could look googl earth see peopl  territori . larg green block , surround checkerboard shade yellow  road , home farmland carv jungl recent decad . even time , zoom look close , could see line cut land like littl dagger . well , year ,  kept eye territori googl earth . late ,  kind afraid look . small sliver road , today , whole parcel karipuna territori clear , land titl  worth paper  print . long line dig land like thin boni finger reach essenc exist . run north south , east west , follow pattern road suppos stop along edg territori . perimet land larg karipuna peopl patrol . state larg abandon .  best hold . true cost bolsonaro govern set countri ablaz . brazil fire . podcast seri . hope  enjoy . know .  labor love mani year , overjoy put world . , although first six episod , seri . come week , hope bring exclus interview topic cover mani realli deserv greater attent , like educ big 2019 student ralli . deep tie trump , bannon , bolsonaro , kid , much .  also updat brazilian elect come week . first round sunday , octob 2 . stay tune keep eye feed . go , want thank everyon donat kickstart campaign podcast nearli two year ago . crucial get thing ground , forev grate . particular , realli want thank follow peopl : eric kinzler , jim choma , tom rall , michael locker , supapan kantithammikorn , patti simbulan ( old music teacher ), ryan harvey , dot goodman , greg wilpert , kayo de oliveira , . . scrugg , bob friedman , lee wilkinson , kevin danah , scott bayliss , sam dodg , gabriel eira villa , georgia malki , richard black , jacob wascalu , jordan klein , burk stansburi , ben dangl , marc becker , chri michael . dian murphi . particular , huge shout judi hugh , parent michael maryann fox , sawyer .  amaz . thank also audio produc zoe sullivan jill replogl guidanc support . also thank pri  world , first report mani stori appear six episod . report brazil come week . final , cours , mani , mani thank team real news nacla . pleasur . brazil fire . co - produc collabor real news nacla . seri edit heather gie . sound design gustavo turck , coletivo catars . theme music band mont perdido . music licens blue dot session .\n"
     ]
    }
   ],
   "source": [
    "print(dataset_to_predict.iloc[0,0])"
   ]
  },
  {
   "cell_type": "markdown",
   "id": "86dc8c50",
   "metadata": {},
   "source": [
    "## Predict the site content again"
   ]
  },
  {
   "cell_type": "code",
   "execution_count": 25,
   "id": "ef63403e",
   "metadata": {},
   "outputs": [
    {
     "data": {
      "text/plain": [
       "array(['News'], dtype='<U31')"
      ]
     },
     "execution_count": 25,
     "metadata": {},
     "output_type": "execute_result"
    }
   ],
   "source": [
    "X_to_predict = cv.fit_transform(dataset_to_predict['news']).toarray()\n",
    "classifier.predict(X_to_predict)"
   ]
  },
  {
   "cell_type": "markdown",
   "id": "85f265f6",
   "metadata": {},
   "source": [
    "## Now we got the right category :)"
   ]
  }
 ],
 "metadata": {
  "kernelspec": {
   "display_name": "Python 3 (ipykernel)",
   "language": "python",
   "name": "python3"
  },
  "language_info": {
   "codemirror_mode": {
    "name": "ipython",
    "version": 3
   },
   "file_extension": ".py",
   "mimetype": "text/x-python",
   "name": "python",
   "nbconvert_exporter": "python",
   "pygments_lexer": "ipython3",
   "version": "3.9.13"
  }
 },
 "nbformat": 4,
 "nbformat_minor": 5
}
