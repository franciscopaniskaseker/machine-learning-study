{
 "cells": [
  {
   "cell_type": "markdown",
   "id": "f56fbd92",
   "metadata": {},
   "source": [
    "# Find the best model and hyperparameters using sklearn digits dataset"
   ]
  },
  {
   "cell_type": "markdown",
   "id": "3e1e440d",
   "metadata": {},
   "source": [
    "# Import the sklearn digits dataset\n"
   ]
  },
  {
   "cell_type": "code",
   "execution_count": 1,
   "id": "f9669a09",
   "metadata": {},
   "outputs": [],
   "source": [
    "from sklearn import datasets"
   ]
  },
  {
   "cell_type": "code",
   "execution_count": 2,
   "id": "af7bef71",
   "metadata": {},
   "outputs": [
    {
     "name": "stdout",
     "output_type": "stream",
     "text": [
      "(1797, 64)\n"
     ]
    }
   ],
   "source": [
    "digits = datasets.load_digits()\n",
    "print(digits.data.shape)"
   ]
  },
  {
   "cell_type": "markdown",
   "id": "dab0bd21",
   "metadata": {},
   "source": [
    "# Show one image"
   ]
  },
  {
   "cell_type": "code",
   "execution_count": 3,
   "id": "72759e81",
   "metadata": {},
   "outputs": [],
   "source": [
    "import matplotlib.pyplot as plt"
   ]
  },
  {
   "cell_type": "code",
   "execution_count": 4,
   "id": "fc461d60",
   "metadata": {},
   "outputs": [
    {
     "data": {
      "text/plain": [
       "<Figure size 432x288 with 0 Axes>"
      ]
     },
     "metadata": {},
     "output_type": "display_data"
    },
    {
     "data": {
      "image/png": "[encoded data removed]",
      "text/plain": [
       "<Figure size 288x288 with 1 Axes>"
      ]
     },
     "metadata": {
      "needs_background": "light"
     },
     "output_type": "display_data"
    }
   ],
   "source": [
    "plt.gray()\n",
    "plt.matshow(digits.images[0])\n",
    "plt.show()"
   ]
  },
  {
   "cell_type": "markdown",
   "id": "211c53fb",
   "metadata": {},
   "source": [
    "# Import all models that will be tested"
   ]
  },
  {
   "cell_type": "code",
   "execution_count": 5,
   "id": "6915d375",
   "metadata": {},
   "outputs": [],
   "source": [
    "from sklearn import svm\n",
    "from sklearn.ensemble import RandomForestClassifier\n",
    "from sklearn.linear_model import LogisticRegression\n",
    "from sklearn.naive_bayes import GaussianNB\n",
    "from sklearn.naive_bayes import MultinomialNB\n",
    "from sklearn.tree import DecisionTreeClassifier"
   ]
  },
  {
   "cell_type": "markdown",
   "id": "b3ae7742",
   "metadata": {},
   "source": [
    "# Build the model_params var to be used with GridSearchCV"
   ]
  },
  {
   "cell_type": "code",
   "execution_count": 6,
   "id": "141892de",
   "metadata": {},
   "outputs": [],
   "source": [
    "# create the dictionary\n",
    "model_params = {\n",
    "    'svm' : { \n",
    "        'model' : svm.SVC(gamma='auto'),\n",
    "        'params' : {\n",
    "            'C' : [ 1, 5, 10, 20],\n",
    "            'kernel' : [ 'rbf', 'linear' ]\n",
    "        }\n",
    "    },\n",
    "    'random_forest' : {\n",
    "        'model' : RandomForestClassifier(),\n",
    "        'params' : {\n",
    "            'criterion' : [ 'gini', 'entropy' ],\n",
    "            'n_estimators' : [ 1, 5, 10 , 15]\n",
    "        }\n",
    "    },\n",
    "    'logistic_regression' : {\n",
    "        'model' : LogisticRegression(multi_class='auto'),\n",
    "        'params' : {\n",
    "            'penalty' : [ 'l1', 'l2' ],\n",
    "            'C': [ 1, 2, 5, 10],\n",
    "            'solver' : [ 'liblinear' ]\n",
    "        }\n",
    "    },\n",
    "    'naive_bayes_gaussiannb' : { \n",
    "        'model' : GaussianNB(), \n",
    "        'params' : {}\n",
    "    },\n",
    "    'naive_bayes_multinomialNB' : {\n",
    "        'model' : MultinomialNB(),\n",
    "        'params' : {\n",
    "            'alpha' : [ 1, 2, 5, 10 ], \n",
    "            'fit_prior' : [ 0, 1 ]\n",
    "        }\n",
    "    },\n",
    "    'decision_tree_classifier' : {\n",
    "        'model' : DecisionTreeClassifier(),\n",
    "        'params' : {\n",
    "            'criterion' : [ 'gini', 'entropy' ],\n",
    "            'splitter' : [ 'best' , 'random' ]\n",
    "        }\n",
    "    }\n",
    "}"
   ]
  },
  {
   "cell_type": "markdown",
   "id": "fdd44171",
   "metadata": {},
   "source": [
    "# Explore the model_params structure"
   ]
  },
  {
   "cell_type": "code",
   "execution_count": 7,
   "id": "9b3d7534",
   "metadata": {},
   "outputs": [
    {
     "name": "stdout",
     "output_type": "stream",
     "text": [
      "svm\n",
      "random_forest\n",
      "logistic_regression\n",
      "naive_bayes_gaussiannb\n",
      "naive_bayes_multinomialNB\n",
      "decision_tree_classifier\n"
     ]
    }
   ],
   "source": [
    "# print the models\n",
    "for item in model_params:\n",
    "    print(item)"
   ]
  },
  {
   "cell_type": "code",
   "execution_count": 8,
   "id": "30445cf8",
   "metadata": {},
   "outputs": [
    {
     "name": "stdout",
     "output_type": "stream",
     "text": [
      "svm\n",
      "{'model': SVC(gamma='auto'), 'params': {'C': [1, 5, 10, 20], 'kernel': ['rbf', 'linear']}}\n",
      "random_forest\n",
      "{'model': RandomForestClassifier(), 'params': {'criterion': ['gini', 'entropy'], 'n_estimators': [1, 5, 10, 15]}}\n",
      "logistic_regression\n",
      "{'model': LogisticRegression(), 'params': {'penalty': ['l1', 'l2'], 'C': [1, 2, 5, 10], 'solver': ['liblinear']}}\n",
      "naive_bayes_gaussiannb\n",
      "{'model': GaussianNB(), 'params': {}}\n",
      "naive_bayes_multinomialNB\n",
      "{'model': MultinomialNB(), 'params': {'alpha': [1, 2, 5, 10], 'fit_prior': [0, 1]}}\n",
      "decision_tree_classifier\n",
      "{'model': DecisionTreeClassifier(), 'params': {'criterion': ['gini', 'entropy'], 'splitter': ['best', 'random']}}\n"
     ]
    }
   ],
   "source": [
    "# print the models and their parameters\n",
    "for model_name, params in model_params.items():\n",
    "    print(model_name)\n",
    "    print(params)"
   ]
  },
  {
   "cell_type": "code",
   "execution_count": 9,
   "id": "723d3978",
   "metadata": {},
   "outputs": [
    {
     "name": "stdout",
     "output_type": "stream",
     "text": [
      "{'C': [1, 5, 10, 20], 'kernel': ['rbf', 'linear']}\n",
      "{'criterion': ['gini', 'entropy'], 'n_estimators': [1, 5, 10, 15]}\n",
      "{'penalty': ['l1', 'l2'], 'C': [1, 2, 5, 10], 'solver': ['liblinear']}\n",
      "{}\n",
      "{'alpha': [1, 2, 5, 10], 'fit_prior': [0, 1]}\n",
      "{'criterion': ['gini', 'entropy'], 'splitter': ['best', 'random']}\n"
     ]
    }
   ],
   "source": [
    "# print just the parameters grouped by the model\n",
    "for model_name, mp in model_params.items():\n",
    "    print(mp['params'])"
   ]
  },
  {
   "cell_type": "code",
   "execution_count": 10,
   "id": "3959785d",
   "metadata": {},
   "outputs": [
    {
     "name": "stdout",
     "output_type": "stream",
     "text": [
      "('C', [1, 5, 10, 20])\n",
      "('kernel', ['rbf', 'linear'])\n",
      "('criterion', ['gini', 'entropy'])\n",
      "('n_estimators', [1, 5, 10, 15])\n",
      "('penalty', ['l1', 'l2'])\n",
      "('C', [1, 2, 5, 10])\n",
      "('solver', ['liblinear'])\n",
      "('alpha', [1, 2, 5, 10])\n",
      "('fit_prior', [0, 1])\n",
      "('criterion', ['gini', 'entropy'])\n",
      "('splitter', ['best', 'random'])\n"
     ]
    }
   ],
   "source": [
    "# print just the parameters\n",
    "for model_name, mp in model_params.items():\n",
    "    for param in mp['params'].items():\n",
    "        print(param)"
   ]
  },
  {
   "cell_type": "markdown",
   "id": "7c8a86e3",
   "metadata": {},
   "source": [
    "# Implement the GridSearchCV to get the best model"
   ]
  },
  {
   "cell_type": "code",
   "execution_count": 11,
   "id": "fc32b13e",
   "metadata": {},
   "outputs": [],
   "source": [
    "from sklearn.model_selection import GridSearchCV\n",
    "import pandas as pd"
   ]
  },
  {
   "cell_type": "code",
   "execution_count": 12,
   "id": "bc55fbd3",
   "metadata": {},
   "outputs": [],
   "source": [
    "# scores list\n",
    "scores = []"
   ]
  },
  {
   "cell_type": "code",
   "execution_count": 13,
   "id": "f1b637d2",
   "metadata": {},
   "outputs": [
    {
     "data": {
      "text/html": [
       "<div>\n",
       "<style scoped>\n",
       "    .dataframe tbody tr th:only-of-type {\n",
       "        vertical-align: middle;\n",
       "    }\n",
       "\n",
       "    .dataframe tbody tr th {\n",
       "        vertical-align: top;\n",
       "    }\n",
       "\n",
       "    .dataframe thead th {\n",
       "        text-align: right;\n",
       "    }\n",
       "</style>\n",
       "<table border=\"1\" class=\"dataframe\">\n",
       "  <thead>\n",
       "    <tr style=\"text-align: right;\">\n",
       "      <th></th>\n",
       "      <th>model</th>\n",
       "      <th>best score</th>\n",
       "      <th>best param</th>\n",
       "    </tr>\n",
       "  </thead>\n",
       "  <tbody>\n",
       "    <tr>\n",
       "      <th>0</th>\n",
       "      <td>svm</td>\n",
       "      <td>0.947697</td>\n",
       "      <td>{'C': 1, 'kernel': 'linear'}</td>\n",
       "    </tr>\n",
       "    <tr>\n",
       "      <th>1</th>\n",
       "      <td>random_forest</td>\n",
       "      <td>0.918225</td>\n",
       "      <td>{'criterion': 'gini', 'n_estimators': 15}</td>\n",
       "    </tr>\n",
       "    <tr>\n",
       "      <th>2</th>\n",
       "      <td>logistic_regression</td>\n",
       "      <td>0.927677</td>\n",
       "      <td>{'C': 1, 'penalty': 'l1', 'solver': 'liblinear'}</td>\n",
       "    </tr>\n",
       "    <tr>\n",
       "      <th>3</th>\n",
       "      <td>naive_bayes_gaussiannb</td>\n",
       "      <td>0.806928</td>\n",
       "      <td>{}</td>\n",
       "    </tr>\n",
       "    <tr>\n",
       "      <th>4</th>\n",
       "      <td>naive_bayes_multinomialNB</td>\n",
       "      <td>0.874246</td>\n",
       "      <td>{'alpha': 10, 'fit_prior': 0}</td>\n",
       "    </tr>\n",
       "    <tr>\n",
       "      <th>5</th>\n",
       "      <td>decision_tree_classifier</td>\n",
       "      <td>0.813025</td>\n",
       "      <td>{'criterion': 'entropy', 'splitter': 'random'}</td>\n",
       "    </tr>\n",
       "  </tbody>\n",
       "</table>\n",
       "</div>"
      ],
      "text/plain": [
       "                       model  best score  \\\n",
       "0                        svm    0.947697   \n",
       "1              random_forest    0.918225   \n",
       "2        logistic_regression    0.927677   \n",
       "3     naive_bayes_gaussiannb    0.806928   \n",
       "4  naive_bayes_multinomialNB    0.874246   \n",
       "5   decision_tree_classifier    0.813025   \n",
       "\n",
       "                                         best param  \n",
       "0                      {'C': 1, 'kernel': 'linear'}  \n",
       "1         {'criterion': 'gini', 'n_estimators': 15}  \n",
       "2  {'C': 1, 'penalty': 'l1', 'solver': 'liblinear'}  \n",
       "3                                                {}  \n",
       "4                     {'alpha': 10, 'fit_prior': 0}  \n",
       "5    {'criterion': 'entropy', 'splitter': 'random'}  "
      ]
     },
     "execution_count": 13,
     "metadata": {},
     "output_type": "execute_result"
    }
   ],
   "source": [
    "# implement the GridSearchCV(estimator, param_grid, cv=5, return_train_score=False)\n",
    "for model_name, model_items in model_params.items():\n",
    "    # grid classifier\n",
    "    grid_clf = GridSearchCV(model_items['model'], model_items['params'], cv=5, return_train_score=False)\n",
    "\n",
    "    # digits.data and digits.target come from sklearn digits dataset\n",
    "    grid_clf.fit(digits.data, digits.target)\n",
    "    \n",
    "    # append the score\n",
    "    scores.append({\n",
    "        'model' : model_name,\n",
    "        'best score' : grid_clf.best_score_,\n",
    "        'best param' : grid_clf.best_params_\n",
    "    })\n",
    "\n",
    "# create a pandas dataframe and add the colums to make it simple to read\n",
    "df = pd.DataFrame(scores, columns = [ 'model', 'best score', 'best param' ])\n",
    "df"
   ]
  },
  {
   "cell_type": "code",
   "execution_count": null,
   "id": "4baf5222",
   "metadata": {},
   "outputs": [],
   "source": []
  }
 ],
 "metadata": {
  "kernelspec": {
   "display_name": "Python 3 (ipykernel)",
   "language": "python",
   "name": "python3"
  },
  "language_info": {
   "codemirror_mode": {
    "name": "ipython",
    "version": 3
   },
   "file_extension": ".py",
   "mimetype": "text/x-python",
   "name": "python",
   "nbconvert_exporter": "python",
   "pygments_lexer": "ipython3",
   "version": "3.9.13"
  }
 },
 "nbformat": 4,
 "nbformat_minor": 5
}
